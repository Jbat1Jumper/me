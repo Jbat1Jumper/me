{
 "cells": [
  {
   "cell_type": "markdown",
   "metadata": {},
   "source": [
    "# Hola, soy Jbat1Jumper\n",
    "#### - Y esto es un sitio web"
   ]
  },
  {
   "cell_type": "markdown",
   "metadata": {},
   "source": [
    "\n",
    "\n",
    "Para comenzar, simplemente tengo que decir que hace rato que queria hacer un blog de nuevo para volcar cada estupidez que haga, y a su vez hace tiempo que debo armar un portfolio `(aunque sea indecente)`. Asi que mi idea para con eso fue: `\"Por que no hacerlo en python?\"`"
   ]
  },
  {
   "cell_type": "markdown",
   "metadata": {},
   "source": [
    " "
   ]
  },
  {
   "cell_type": "code",
   "execution_count": 6,
   "metadata": {
    "collapsed": false
   },
   "outputs": [
    {
     "ename": "SyntaxError",
     "evalue": "invalid syntax (<ipython-input-6-a3c46be40fef>, line 1)",
     "output_type": "error",
     "traceback": [
      "\u001b[0;36m  File \u001b[0;32m\"<ipython-input-6-a3c46be40fef>\"\u001b[0;36m, line \u001b[0;32m1\u001b[0m\n\u001b[0;31m    por que no hacerlo en python\\?\u001b[0m\n\u001b[0m          ^\u001b[0m\n\u001b[0;31mSyntaxError\u001b[0m\u001b[0;31m:\u001b[0m invalid syntax\n"
     ]
    }
   ],
   "source": [
    "por que no hacerlo en python\\?"
   ]
  },
  {
   "cell_type": "markdown",
   "metadata": {},
   "source": [
    "_ de hecho, el linter tiene razón. Ese `que` deberia llevar tilde. "
   ]
  },
  {
   "cell_type": "markdown",
   "metadata": {},
   "source": [
    "Porque como siempre la fiaca de ponerse a hacer algo, mas para con estas cosas, le gana a uno pero por goleada. Uno siempre dice `\"Si! Voy a hacer el mejor sitio web/portfolio/programa/receta de cocina/obra de arte/cancion/archivo de configuracion de bash/vida!\"` pero inmediatamente despues te das cuenta de que lo vas a dejar por la mitad y luego siempre vas a pensar en eso y en la culpa que te genera. No digo que esta vez vaya a ser diferente, aunque eso es lo que uno siempre suela decir, pero al menos voy a tratar de tomarlo como algo divertido de hacer mas que como una obligación."
   ]
  },
  {
   "cell_type": "markdown",
   "metadata": {},
   "source": [
    " "
   ]
  },
  {
   "cell_type": "code",
   "execution_count": 18,
   "metadata": {
    "collapsed": false
   },
   "outputs": [
    {
     "ename": "NameError",
     "evalue": "name 'divertirse' is not defined",
     "output_type": "error",
     "traceback": [
      "\u001b[0;31m---------------------------------------------------------------------------\u001b[0m",
      "\u001b[0;31mNameError\u001b[0m                                 Traceback (most recent call last)",
      "\u001b[0;32m<ipython-input-18-270fbbb4e7dc>\u001b[0m in \u001b[0;36m<module>\u001b[0;34m()\u001b[0m\n\u001b[0;32m----> 1\u001b[0;31m \u001b[0mdivertirse\u001b[0m\u001b[0;34m(\u001b[0m\u001b[0mnow\u001b[0m\u001b[0;34m)\u001b[0m\u001b[0;34m\u001b[0m\u001b[0m\n\u001b[0m",
      "\u001b[0;31mNameError\u001b[0m: name 'divertirse' is not defined"
     ]
    }
   ],
   "source": [
    "divertirse(now)"
   ]
  },
  {
   "cell_type": "markdown",
   "metadata": {},
   "source": [
    "Bueno, no se si divertido es la palabra adecuada pero al menos encontre una forma de llevar, sin mucho esfuerzo alguno, todos los bocetos/basura que haga a la internet. Basicamente subiendo toda esa basura, sin casi nada de filtro, simplemente escribiendola en bonitas :3 notas de [Jupyter](http://jupyter.org/). Sin mucho más preambulo dejo de parlotear y hago lugar al indice de cosas locas que surgieron:"
   ]
  },
  {
   "cell_type": "markdown",
   "metadata": {},
   "source": [
    "## Indice\n",
    "- [WIP](/WIP) - Aca van a ir a parar cosas en las que este trabajando, y que no fueron promovidas a una [Señora Nota](/Señora_Nota)"
   ]
  },
  {
   "cell_type": "markdown",
   "metadata": {},
   "source": [
    " "
   ]
  },
  {
   "cell_type": "markdown",
   "metadata": {},
   "source": [
    " "
   ]
  },
  {
   "cell_type": "markdown",
   "metadata": {},
   "source": [
    ":D"
   ]
  }
 ],
 "metadata": {
  "kernelspec": {
   "display_name": "Python 3",
   "language": "python",
   "name": "python3"
  },
  "language_info": {
   "codemirror_mode": {
    "name": "ipython",
    "version": 3
   },
   "file_extension": ".py",
   "mimetype": "text/x-python",
   "name": "python",
   "nbconvert_exporter": "python",
   "pygments_lexer": "ipython3",
   "version": "3.5.1"
  }
 },
 "nbformat": 4,
 "nbformat_minor": 1
}
